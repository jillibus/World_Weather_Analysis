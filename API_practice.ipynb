{
 "cells": [
  {
   "cell_type": "code",
   "execution_count": 1,
   "id": "b53fb639",
   "metadata": {},
   "outputs": [],
   "source": [
    "# Import the dependencies.\n",
    "import pandas as pd\n",
    "import matplotlib.pyplot as plt\n",
    "import numpy as np\n",
    "import requests\n",
    "# Import the citipy module to determine city based on latitude and longitude\n",
    "from citipy import citipy"
   ]
  },
  {
   "cell_type": "code",
   "execution_count": 2,
   "id": "aed9f533",
   "metadata": {},
   "outputs": [],
   "source": [
    "# Create a practice set of random latitude and longitude combinations.\n",
    "x = [25.12903645, 25.92017388, 26.62509167, -59.98969384, 37.30571269]\n",
    "y = [-67.59741259, 11.09532135, 74.84233102, -76.89176677, -61.13376282]\n",
    "coordinates = zip(x, y)"
   ]
  },
  {
   "cell_type": "code",
   "execution_count": 3,
   "id": "e23a87cb",
   "metadata": {},
   "outputs": [],
   "source": [
    "#You can only unzip a zipped tuple once before it is removed from the computer's memory. \n",
    "#Make sure you unzip the latitudes and longitudes into the coordinates list before moving on."
   ]
  },
  {
   "cell_type": "code",
   "execution_count": 4,
   "id": "3678a162",
   "metadata": {},
   "outputs": [],
   "source": [
    "# add the latitudes and longitudes to a list (otherwise it will be lost in memory)\n",
    "coordinates_list = list(coordinates)"
   ]
  },
  {
   "cell_type": "code",
   "execution_count": 5,
   "id": "9a62409a",
   "metadata": {},
   "outputs": [
    {
     "name": "stdout",
     "output_type": "stream",
     "text": [
      "25.12903645 -67.59741259\n",
      "25.92017388 11.09532135\n",
      "26.62509167 74.84233102\n",
      "-59.98969384 -76.89176677\n",
      "37.30571269 -61.13376282\n"
     ]
    }
   ],
   "source": [
    "# Use the tuple() function to display the latitude and longitude combinations that zip made\n",
    "for coordinate in coordinates_list:\n",
    "    print(coordinate[0],coordinate[1])"
   ]
  },
  {
   "cell_type": "code",
   "execution_count": 6,
   "id": "e1cfbcb9",
   "metadata": {},
   "outputs": [
    {
     "name": "stdout",
     "output_type": "stream",
     "text": [
      "cockburn town tc\n",
      "gat ly\n",
      "parvatsar in\n",
      "punta arenas cl\n",
      "saint george bm\n"
     ]
    }
   ],
   "source": [
    "# using the tuple() from coordinates_list, locate the nearest city name, country code \n",
    "for coordinate in coordinates_list:\n",
    "    print(citipy.nearest_city(coordinate[0],coordinate[1]).city_name,\n",
    "          citipy.nearest_city(coordinate[0],coordinate[1]).country_code)"
   ]
  },
  {
   "cell_type": "code",
   "execution_count": 7,
   "id": "b16ecb50",
   "metadata": {},
   "outputs": [
    {
     "data": {
      "text/plain": [
       "5"
      ]
     },
     "execution_count": 7,
     "metadata": {},
     "output_type": "execute_result"
    }
   ],
   "source": [
    "# Refactor the above code to create a list to hold the cities \n",
    "cities = []\n",
    "# Identify the nearest cities for each latitude and longitude combination\n",
    "for coordinate in coordinates_list:\n",
    "    city = citipy.nearest_city(coordinate[0],coordinate[1]).city_name\n",
    "# If the city is unique, then add it to the city list\n",
    "    if city not in cities:\n",
    "        cities.append(city)\n",
    "# When complete print out how many cities were entered from the 5 coordinates\n",
    "len(cities)"
   ]
  },
  {
   "cell_type": "code",
   "execution_count": 8,
   "id": "7ad2d96c",
   "metadata": {},
   "outputs": [],
   "source": [
    "# Import the requests library\n",
    "import requests\n",
    "# Import the API key\n",
    "from config import weather_api_key"
   ]
  },
  {
   "cell_type": "code",
   "execution_count": 9,
   "id": "ba40618e",
   "metadata": {},
   "outputs": [],
   "source": [
    "# See if you can find a city\n",
    "url = 'http://api.openweathermap.org/data/2.5/weather?'\n",
    "city = 'London'"
   ]
  },
  {
   "cell_type": "code",
   "execution_count": 10,
   "id": "7f9bc3a8",
   "metadata": {},
   "outputs": [],
   "source": [
    "query_url = url + 'appid=' + weather_api_key + '&q=' + city"
   ]
  },
  {
   "cell_type": "code",
   "execution_count": 11,
   "id": "e2440930",
   "metadata": {},
   "outputs": [],
   "source": [
    "weather_response = requests.get(query_url)\n",
    "weather_json = weather_response.json()"
   ]
  },
  {
   "cell_type": "code",
   "execution_count": 12,
   "id": "b96b7259",
   "metadata": {},
   "outputs": [
    {
     "data": {
      "text/plain": [
       "dict_keys(['coord', 'weather', 'base', 'main', 'visibility', 'wind', 'clouds', 'dt', 'sys', 'timezone', 'id', 'name', 'cod'])"
      ]
     },
     "execution_count": 12,
     "metadata": {},
     "output_type": "execute_result"
    }
   ],
   "source": [
    "weather_json.keys()"
   ]
  },
  {
   "cell_type": "code",
   "execution_count": 13,
   "id": "05ae3a36",
   "metadata": {},
   "outputs": [
    {
     "data": {
      "text/plain": [
       "{'temp': 286,\n",
       " 'feels_like': 285.8,\n",
       " 'temp_min': 284.51,\n",
       " 'temp_max': 287.61,\n",
       " 'pressure': 991,\n",
       " 'humidity': 94}"
      ]
     },
     "execution_count": 13,
     "metadata": {},
     "output_type": "execute_result"
    }
   ],
   "source": [
    "weather_json.get('main')"
   ]
  },
  {
   "cell_type": "code",
   "execution_count": 14,
   "id": "f6ecf64f",
   "metadata": {},
   "outputs": [
    {
     "data": {
      "text/plain": [
       "<Response [200]>"
      ]
     },
     "execution_count": 14,
     "metadata": {},
     "output_type": "execute_result"
    }
   ],
   "source": [
    "# Test new city\n",
    "url = \"http://api.openweathermap.org/data/2.5/weather?units=Imperial&APPID=\" + weather_api_key\n",
    "city_url = url + '&q=' + 'Boston'\n",
    "city_weather = requests.get(city_url)\n",
    "city_weather"
   ]
  },
  {
   "cell_type": "code",
   "execution_count": 15,
   "id": "79590cd5",
   "metadata": {},
   "outputs": [
    {
     "data": {
      "text/plain": [
       "'{\"coord\":{\"lon\":-71.0598,\"lat\":42.3584},\"weather\":[{\"id\":802,\"main\":\"Clouds\",\"description\":\"scattered clouds\",\"icon\":\"03n\"}],\"base\":\"stations\",\"main\":{\"temp\":67.64,\"feels_like\":67.39,\"temp_min\":62.37,\"temp_max\":70.25,\"pressure\":1016,\"humidity\":70},\"visibility\":10000,\"wind\":{\"speed\":5.01,\"deg\":277,\"gust\":11.01},\"clouds\":{\"all\":30},\"dt\":1633214052,\"sys\":{\"type\":2,\"id\":2013408,\"country\":\"US\",\"sunrise\":1633171351,\"sunset\":1633213457},\"timezone\":-14400,\"id\":4930956,\"name\":\"Boston\",\"cod\":200}'"
      ]
     },
     "execution_count": 15,
     "metadata": {},
     "output_type": "execute_result"
    }
   ],
   "source": [
    "# Get the text of the 'Get' request\n",
    "city_weather.text"
   ]
  },
  {
   "cell_type": "code",
   "execution_count": 16,
   "id": "cfea768f",
   "metadata": {},
   "outputs": [
    {
     "data": {
      "text/plain": [
       "{'coord': {'lon': -71.0598, 'lat': 42.3584},\n",
       " 'weather': [{'id': 802,\n",
       "   'main': 'Clouds',\n",
       "   'description': 'scattered clouds',\n",
       "   'icon': '03n'}],\n",
       " 'base': 'stations',\n",
       " 'main': {'temp': 67.64,\n",
       "  'feels_like': 67.39,\n",
       "  'temp_min': 62.37,\n",
       "  'temp_max': 70.25,\n",
       "  'pressure': 1016,\n",
       "  'humidity': 70},\n",
       " 'visibility': 10000,\n",
       " 'wind': {'speed': 5.01, 'deg': 277, 'gust': 11.01},\n",
       " 'clouds': {'all': 30},\n",
       " 'dt': 1633214052,\n",
       " 'sys': {'type': 2,\n",
       "  'id': 2013408,\n",
       "  'country': 'US',\n",
       "  'sunrise': 1633171351,\n",
       "  'sunset': 1633213457},\n",
       " 'timezone': -14400,\n",
       " 'id': 4930956,\n",
       " 'name': 'Boston',\n",
       " 'cod': 200}"
      ]
     },
     "execution_count": 16,
     "metadata": {},
     "output_type": "execute_result"
    }
   ],
   "source": [
    "# Get the text of the 'Get' in JSON\n",
    "city_weather.json()"
   ]
  },
  {
   "cell_type": "code",
   "execution_count": 17,
   "id": "2caee0e4",
   "metadata": {},
   "outputs": [
    {
     "name": "stdout",
     "output_type": "stream",
     "text": [
      "City Weather found.\n"
     ]
    }
   ],
   "source": [
    "# Write code to respond to response code before even handling data from the 'Get'\n",
    "city_url = url + '&q=' + 'Boston'\n",
    "city_weather = requests.get(city_url)\n",
    "if city_weather.status_code == 200:\n",
    "    print(f'City Weather found.')\n",
    "else:\n",
    "    print(f'City Weather Not found.')"
   ]
  },
  {
   "cell_type": "code",
   "execution_count": 18,
   "id": "423fbda2",
   "metadata": {},
   "outputs": [
    {
     "name": "stdout",
     "output_type": "stream",
     "text": [
      "http://api.openweathermap.org/data/2.5/weather?units=Imperial&APPID=9f0196fc59036c02536d91e1659f9786&q=Boston\n"
     ]
    }
   ],
   "source": [
    "print(city_url)"
   ]
  },
  {
   "cell_type": "code",
   "execution_count": 19,
   "id": "1e5566d7",
   "metadata": {},
   "outputs": [
    {
     "data": {
      "text/plain": [
       "{'coord': {'lon': -71.0598, 'lat': 42.3584},\n",
       " 'weather': [{'id': 802,\n",
       "   'main': 'Clouds',\n",
       "   'description': 'scattered clouds',\n",
       "   'icon': '03n'}],\n",
       " 'base': 'stations',\n",
       " 'main': {'temp': 67.64,\n",
       "  'feels_like': 67.39,\n",
       "  'temp_min': 62.37,\n",
       "  'temp_max': 70.25,\n",
       "  'pressure': 1016,\n",
       "  'humidity': 70},\n",
       " 'visibility': 10000,\n",
       " 'wind': {'speed': 5.01, 'deg': 277, 'gust': 11.01},\n",
       " 'clouds': {'all': 30},\n",
       " 'dt': 1633214052,\n",
       " 'sys': {'type': 2,\n",
       "  'id': 2013408,\n",
       "  'country': 'US',\n",
       "  'sunrise': 1633171351,\n",
       "  'sunset': 1633213457},\n",
       " 'timezone': -14400,\n",
       " 'id': 4930956,\n",
       " 'name': 'Boston',\n",
       " 'cod': 200}"
      ]
     },
     "execution_count": 19,
     "metadata": {},
     "output_type": "execute_result"
    }
   ],
   "source": [
    "# Need to capture these values and put into a data frame - \n",
    "# we will test the method by gathering the data for Boston\n",
    "city_url = url + '&q=' + 'Boston'\n",
    "city_weather = requests.get(city_url)\n",
    "city_weather.json()\n"
   ]
  },
  {
   "cell_type": "code",
   "execution_count": 20,
   "id": "0c7754fd",
   "metadata": {},
   "outputs": [],
   "source": [
    "# Get the JSON data\n",
    "boston_data = city_weather.json()\n",
    "#boston_data['name']\n",
    "#boston_date['dt']\n",
    "#boston_data['sys']['country']\n",
    "#boston_data['coord']['lon']\n",
    "#boston_data['coord']['lat']\n",
    "#boston_data['main']['temp_max']\n",
    "#boston_data['main']['temp_min']\n",
    "#boston_data['main']['humidity']\n",
    "#boston_data['clouds']['all']\n",
    "#boston_data['wind']['speed']"
   ]
  },
  {
   "cell_type": "code",
   "execution_count": 21,
   "id": "ad543bc7",
   "metadata": {},
   "outputs": [
    {
     "data": {
      "text/plain": [
       "datetime.datetime(2021, 10, 2, 22, 34, 12)"
      ]
     },
     "execution_count": 21,
     "metadata": {},
     "output_type": "execute_result"
    }
   ],
   "source": [
    "# Import date-time-module from the datetime library\n",
    "from datetime import datetime\n",
    "# get the date from the JSON file\n",
    "date = boston_data['dt']\n",
    "# Convert the UTC date to a date format with year, month, day, hours\n",
    "datetime.utcfromtimestamp(date)"
   ]
  },
  {
   "cell_type": "code",
   "execution_count": 22,
   "id": "7d4253f8",
   "metadata": {},
   "outputs": [
    {
     "data": {
      "text/plain": [
       "'2021-10-02 22:34:12'"
      ]
     },
     "execution_count": 22,
     "metadata": {},
     "output_type": "execute_result"
    }
   ],
   "source": [
    "# Convert the date to python string\n",
    "datetime.utcfromtimestamp(date).strftime('%Y-%m-%d %H:%M:%S')"
   ]
  },
  {
   "cell_type": "code",
   "execution_count": null,
   "id": "8177964d",
   "metadata": {},
   "outputs": [],
   "source": []
  },
  {
   "cell_type": "code",
   "execution_count": 23,
   "id": "881d1152",
   "metadata": {},
   "outputs": [
    {
     "name": "stdout",
     "output_type": "stream",
     "text": [
      "It is currently 70.54 degrees in Pittsburgh\n",
      "It is currently 85.19 degrees in Austin\n",
      "KeyError received for New  York\n",
      "It is currently 89.67 degrees in Los Angeles\n",
      "It is currently 65.86 degrees in  Seattle\n"
     ]
    }
   ],
   "source": [
    "# Testing try - except block\n",
    "url = \"http://api.openweathermap.org/data/2.5/weather?units=Imperial&APPID=\" + weather_api_key\n",
    "cities = ['Pittsburgh','Austin','New  York','Los Angeles',' Seattle']\n",
    "for city in cities:\n",
    "    try:\n",
    "        city_url = url + '&q=' + city\n",
    "        weather = requests.get(city_url).json()\n",
    "        temp = weather['main']['temp']\n",
    "    except KeyError:\n",
    "        print('KeyError received for ' + city)\n",
    "        continue\n",
    "    print('It is currently ' + str(temp) + ' degrees in ' + city)\n"
   ]
  },
  {
   "cell_type": "code",
   "execution_count": 26,
   "id": "e191be7e",
   "metadata": {},
   "outputs": [
    {
     "name": "stdout",
     "output_type": "stream",
     "text": [
      "Beginning of Data Retrieval\n",
      "------------------------------------\n"
     ]
    }
   ],
   "source": [
    "# Create an empty list to hold the weather data\n",
    "city_data = []\n",
    "# Print the beginning of the logging\n",
    "print('Beginning of Data Retrieval')\n",
    "print('------------------------------------')\n",
    "\n",
    "# Create counters\n",
    "record_count = 1\n",
    "set_count = 1"
   ]
  },
  {
   "cell_type": "code",
   "execution_count": 27,
   "id": "8286bdaf",
   "metadata": {},
   "outputs": [
    {
     "name": "stdout",
     "output_type": "stream",
     "text": [
      "City not found Skipping ....New  York\n",
      "-----------------------------\n",
      "Data Retrieval Complete      \n",
      "-----------------------------\n"
     ]
    }
   ],
   "source": [
    "# Run an API request for each of the cities.\n",
    "url = \"http://api.openweathermap.org/data/2.5/weather?units=Imperial&APPID=\" + weather_api_key\n",
    "cities = ['Pittsburgh','Austin','New  York','Los Angeles',' Seattle']\n",
    "for city in cities:\n",
    "    city_url = url + '&q=' + city\n",
    "    try:\n",
    "        # Parse the JSON and retrieve data.\n",
    "        city_weather = requests.get(city_url).json()\n",
    "        # Parse out the needed data.\n",
    "        city_lat = city_weather[\"coord\"][\"lat\"]\n",
    "        city_lng = city_weather[\"coord\"][\"lon\"]\n",
    "        city_max_temp = city_weather[\"main\"][\"temp_max\"]\n",
    "        city_humidity = city_weather[\"main\"][\"humidity\"]\n",
    "        city_clouds = city_weather[\"clouds\"][\"all\"]\n",
    "        city_wind = city_weather[\"wind\"][\"speed\"]\n",
    "        city_country = city_weather[\"sys\"][\"country\"]\n",
    "        # Convert the date to ISO standard.\n",
    "        city_date = datetime.utcfromtimestamp(city_weather[\"dt\"]).strftime('%Y-%m-%d %H:%M:%S')\n",
    "        # Append the city information into city_data list.\n",
    "        city_data.append({\"City\": city.title(),\n",
    "                          \"Lat\": city_lat,\n",
    "                          \"Lng\": city_lng,\n",
    "                          \"Max Temp\": city_max_temp,\n",
    "                          \"Humidity\": city_humidity,\n",
    "                          \"Cloudiness\": city_clouds,\n",
    "                          \"Wind Speed\": city_wind,\n",
    "                          \"Country\": city_country,\n",
    "                          \"Date\": city_date})\n",
    "    except: \n",
    "        print('City not found Skipping ....' + city)\n",
    "        pass\n",
    "    \n",
    "# Indicate that Data Loading is complete\n",
    "print(\"-----------------------------\")\n",
    "print(\"Data Retrieval Complete      \")\n",
    "print(\"-----------------------------\")"
   ]
  },
  {
   "cell_type": "code",
   "execution_count": 28,
   "id": "adb7f8c2",
   "metadata": {},
   "outputs": [
    {
     "data": {
      "text/plain": [
       "4"
      ]
     },
     "execution_count": 28,
     "metadata": {},
     "output_type": "execute_result"
    }
   ],
   "source": [
    "len(city_data)"
   ]
  },
  {
   "cell_type": "code",
   "execution_count": 30,
   "id": "3a8f6476",
   "metadata": {},
   "outputs": [
    {
     "data": {
      "text/plain": [
       "'10/02/21'"
      ]
     },
     "execution_count": 30,
     "metadata": {},
     "output_type": "execute_result"
    }
   ],
   "source": [
    "# Import the time module.\n",
    "import time\n",
    "# Get today's date in seconds.\n",
    "today = time.time()\n",
    "today = time.strftime('%x')\n",
    "today"
   ]
  },
  {
   "cell_type": "code",
   "execution_count": null,
   "id": "d9c2ba94",
   "metadata": {},
   "outputs": [],
   "source": []
  }
 ],
 "metadata": {
  "kernelspec": {
   "display_name": "Python 3",
   "language": "python",
   "name": "python3"
  },
  "language_info": {
   "codemirror_mode": {
    "name": "ipython",
    "version": 3
   },
   "file_extension": ".py",
   "mimetype": "text/x-python",
   "name": "python",
   "nbconvert_exporter": "python",
   "pygments_lexer": "ipython3",
   "version": "3.7.10"
  }
 },
 "nbformat": 4,
 "nbformat_minor": 5
}
